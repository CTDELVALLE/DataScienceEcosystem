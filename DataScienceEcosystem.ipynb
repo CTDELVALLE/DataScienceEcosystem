{
 "cells": [
  {
   "cell_type": "markdown",
   "id": "0b7eff9f-8190-445c-8307-034b7b2fd4f4",
   "metadata": {},
   "source": [
    "##  In this notebook, Data Science Tools and Ecosystem are Sumerized\n"
   ]
  },
  {
   "cell_type": "markdown",
   "id": "31950267-4e4f-4bac-aaef-555a1b787431",
   "metadata": {},
   "source": [
    "**Objectives:**\n",
    "\n",
    "- Introduce commonly used libraries in data science.\n",
    "- List open-source development environments for data science.\n",
    "- Provide examples of evaluating arithmetic expressions in Python.\n",
    "- Demonstrate conversion of units (minutes to hours) using Python.\n",
    "\n"
   ]
  },
  {
   "cell_type": "markdown",
   "id": "7f59d54c-49e2-4c89-ab01-6f4b1d6bc262",
   "metadata": {
    "tags": []
   },
   "source": [
    "# Data Science Tools and Ecosystm\n",
    "\n"
   ]
  },
  {
   "cell_type": "markdown",
   "id": "cb09c29c-e707-4b0a-9e9a-6a20a5d428a7",
   "metadata": {},
   "source": [
    "### Some of the popular languages that Data Scientists use are:\n",
    "1. Python\n",
    "2. R\n",
    "3. C++"
   ]
  },
  {
   "cell_type": "markdown",
   "id": "5da7f200-88b3-4e40-a25f-cf68836e7a57",
   "metadata": {},
   "source": [
    "## Some of the commonly used libraries used by Data Scientists include:\n",
    "\n",
    "1. Pandas\n",
    "2. NumPy\n",
    "3. Scikit-learn\n",
    "4. TensorFlow\n",
    "5. Keras\n"
   ]
  },
  {
   "cell_type": "markdown",
   "id": "0b4bc35b-b70c-4804-996c-f4d871f25647",
   "metadata": {},
   "source": [
    "| Data Science Tools |\n",
    "|-------------------|\n",
    "| Jupyter Notebook  |\n",
    "| RStudio           |\n",
    "| Visual Studio Code|\n"
   ]
  },
  {
   "cell_type": "markdown",
   "id": "1fd37ce2-dfbe-4cb6-b0ce-eb437a47fb51",
   "metadata": {},
   "source": [
    "### Examples of Evaluating Arithmetic Expressions in Python\n",
    "\n",
    "Here are some examples demonstrating how to evaluate arithmetic expressions in Python:\n",
    "\n"
   ]
  },
  {
   "cell_type": "code",
   "execution_count": 2,
   "id": "04bb5687-364e-4c06-bdbd-e77299bd2a58",
   "metadata": {
    "tags": []
   },
   "outputs": [
    {
     "name": "stdout",
     "output_type": "stream",
     "text": [
      "17\n"
     ]
    }
   ],
   "source": [
    "# This is a simple arithmetic expression to multiply then add integers.\n",
    "result = (3 * 4) + 5\n",
    "print(result)\n"
   ]
  },
  {
   "cell_type": "code",
   "execution_count": 3,
   "id": "583156c4-954a-45ea-983e-ea0367612a67",
   "metadata": {
    "tags": []
   },
   "outputs": [
    {
     "name": "stdout",
     "output_type": "stream",
     "text": [
      "3.3333333333333335\n"
     ]
    }
   ],
   "source": [
    "# This will convert 200 minutes to hours by dividing by 60.\n",
    "minutes = 200\n",
    "hours = minutes / 60\n",
    "print(hours)"
   ]
  },
  {
   "cell_type": "code",
   "execution_count": null,
   "id": "070f87b5-cff8-4632-a392-0e08d70122ac",
   "metadata": {},
   "outputs": [],
   "source": [
    "## Author\n",
    "Flavio Emmanuel Del Valle\n"
   ]
  }
 ],
 "metadata": {
  "kernelspec": {
   "display_name": "Python",
   "language": "python",
   "name": "conda-env-python-py"
  },
  "language_info": {
   "codemirror_mode": {
    "name": "ipython",
    "version": 3
   },
   "file_extension": ".py",
   "mimetype": "text/x-python",
   "name": "python",
   "nbconvert_exporter": "python",
   "pygments_lexer": "ipython3",
   "version": "3.7.12"
  }
 },
 "nbformat": 4,
 "nbformat_minor": 5
}
